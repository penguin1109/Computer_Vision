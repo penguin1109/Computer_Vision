{
 "cells": [
  {
   "cell_type": "code",
   "execution_count": 10,
   "metadata": {},
   "outputs": [],
   "source": [
    "import tensorflow as tf\n",
    "import matplotlib.pyplot as plt\n",
    "import numpy as np\n",
    "import pandas as pd"
   ]
  },
  {
   "cell_type": "markdown",
   "metadata": {},
   "source": [
    "### INTRO\n",
    "- 컴퓨터 비전은 네트워크가 그리 발달되지 않은 예전부터 특성 벡터 (feature vector)을 이미지에서 추출하여, 즉 1차원 혹은 2차원 벡터로 표현을 한다. \n",
    "- 여기서 말하는 특성 벡터란 결국 이미지, 특정 테두리, 특성을 나타내는 이미지 patch등에서 일부 핵심 포인트인 것이다.\n",
    "- 이러한 특징은 새로운 이미지에서 쉽게 얻을 수 있어야 하며 인식과정을 더 진행하기 위해 필요한 정보를 포함해야 한다.  \n",
    "\n",
    "- 그러나 이러한 특징을 추출하는 것 만으로는 인식 작업을 전부 마무리 할 수 없기 때문에 의미론적 분류 같은 더 높은 수준의 문제는 Support Vector Machine, Random Forest, Bag of Words, Neural Network등과 같은 머신 러닝알고리즘을 당연히 필요로 했던 것이다.\n",
    "\n",
    "- 때문에 우리에게 Computer Vision을 다루기에 앞서 더 중요한 것은 신경망의 이해와 구현이다.\n",
    "    - 그래서 이번 notebook에서는 복잡한 Computer Vision 을 다루기 보다는 복습하는 차원에서 신경망을 **keras가 아닌 python으로**하나 하나 차근 차근 구현해 보고 원리를 되짚어 볼 생각이다."
   ]
  },
  {
   "cell_type": "markdown",
   "metadata": {},
   "source": [
    "### 신경망 (ANN, NN) \n",
    "- 이 인공 신경망을 이용해서 정보 처리, 패턴 인식, 새로운 패턴의 탐색, 복잡한 절차를 단순화 등의 작업들이 가능하다.\n",
    "1. 입력\n",
    "    - 일반적으로 가중합으로 더해지게 된다.\n",
    "    - 여기서 부여되는 가중치는 **훈련 단계에서 뉴런이 적절한 특징에 반응하도록 하기 위해서** 조정되는 매개 변수이다.\n",
    "2. 처리 \n",
    "    - 가중치를 곱해서 더한 뒤에 편향을 더해준다.\n",
    "    - 그리고 두 벡터 (입력과 가중치)의 스칼라 곱 이후에 입력의 크기가 바뀌고 더해져서 결과 z를 만들면 뉴런의 출력을 얻기 위해 **활성화 함수**를 적용한다.\n",
    "3. 출력    \n",
    "    - 기존에 사용하던 계단함수에는 비선형성이 결여 되어 있어 이후 **softmax, tanh, ReLU** activation function을 사용한다.  \n",
    "    \n",
    "간단한 모델을 파이썬으로 구현을 해보고자 한다.    \n",
    "    "
   ]
  },
  {
   "cell_type": "code",
   "execution_count": 11,
   "metadata": {},
   "outputs": [],
   "source": [
    "class Neuron(object):\n",
    "    def __init__(self, num_inputs, activation_fn):\n",
    "        super().__init__()\n",
    "        self.W = np.random.rand(num_inputs)\n",
    "        self.b = np.random.rand(1)\n",
    "        self.activation_fn = activation_fn\n",
    "    \n",
    "    def forward(self, x):\n",
    "        z = np.dot(x, self.W) + self.b\n",
    "        output = self.activation_fn(z)\n",
    "        return output"
   ]
  },
  {
   "cell_type": "code",
   "execution_count": 12,
   "metadata": {},
   "outputs": [
    {
     "data": {
      "text/plain": [
       "array([[0.37454012, 0.95071431, 0.73199394]])"
      ]
     },
     "execution_count": 12,
     "metadata": {},
     "output_type": "execute_result"
    }
   ],
   "source": [
    "np.random.seed(42)   \n",
    "#random seed를 고정하는 이유는 같은 랜덤한 값으로 계속 반복해서 입력이 가능할 수 있도록 하기 위함이다.\n",
    "x = np.random.rand(3).reshape(1,3)\n",
    "x"
   ]
  },
  {
   "cell_type": "code",
   "execution_count": 13,
   "metadata": {},
   "outputs": [],
   "source": [
    "step_fn = lambda y : 0 if y <= 0 else 1\n",
    "perceptron = Neuron(num_inputs = x.size, activation_fn = step_fn)\n",
    "#x.size = 3"
   ]
  },
  {
   "cell_type": "code",
   "execution_count": 14,
   "metadata": {},
   "outputs": [
    {
     "data": {
      "text/plain": [
       "(array([0.59865848, 0.15601864, 0.15599452]), array([0.05808361]))"
      ]
     },
     "execution_count": 14,
     "metadata": {},
     "output_type": "execute_result"
    }
   ],
   "source": [
    "perceptron.W, perceptron.b\n",
    "#퍼셉트론에서 결정지은 가중치와 편향"
   ]
  },
  {
   "cell_type": "code",
   "execution_count": 15,
   "metadata": {},
   "outputs": [
    {
     "data": {
      "text/plain": [
       "1"
      ]
     },
     "execution_count": 15,
     "metadata": {},
     "output_type": "execute_result"
    }
   ],
   "source": [
    "out = perceptron.forward(x)\n",
    "out\n",
    "#퍼셉트론을 랜덤한 x값이 통과한 이후 출력된 값(1이 출력이 되었으니 이는 계단함수에ㅔ서는 임계값을 가중합이 초과했음을 의미한다고 볼 수 있다.)"
   ]
  },
  {
   "cell_type": "markdown",
   "metadata": {},
   "source": [
    "**위에서 구현한 모델은 하나의 신경망이다. 이제 계층화된 신경망 모델, 즉 은닉층을 포함하는 신경망을 구현해 보고자 한다.**"
   ]
  },
  {
   "cell_type": "code",
   "execution_count": 16,
   "metadata": {},
   "outputs": [],
   "source": [
    "class FullyConnectedLayer(object):\n",
    "    def __init__(self, num_inputs, layer_size, activation_fn):\n",
    "        super().__init__()\n",
    "        self.num_inputs = num_inputs\n",
    "        self.size = layer_size\n",
    "        self.W = np.random.standard_normal((num_inputs, layer_size))\n",
    "        self.b = np.random.standard_normal(layer_size)\n",
    "        self.activation_fn = activation_fn\n",
    "    \n",
    "    def forward(self, x):\n",
    "        z = np.dot(x, self.W) + self.b\n",
    "        output = self.activation_fn(z)\n",
    "        return output"
   ]
  },
  {
   "cell_type": "code",
   "execution_count": 17,
   "metadata": {},
   "outputs": [
    {
     "data": {
      "text/plain": [
       "(array([[-0.25091976,  0.90142861]]), array([[0.46398788, 0.19731697]]))"
      ]
     },
     "execution_count": 17,
     "metadata": {},
     "output_type": "execute_result"
    }
   ],
   "source": [
    "np.random.seed(42)\n",
    "x1 = np.random.uniform(-1,1,2).reshape(1,2)\n",
    "x2 = np.random.uniform(-1,1,2).reshape(1,2)\n",
    "x1,x2"
   ]
  },
  {
   "cell_type": "code",
   "execution_count": 18,
   "metadata": {},
   "outputs": [],
   "source": [
    "relu_fn = lambda y : np.maximum(y,0)\n",
    "layer = FullyConnectedLayer(x1.size, 3, activation_fn = relu_fn)"
   ]
  },
  {
   "cell_type": "code",
   "execution_count": 19,
   "metadata": {},
   "outputs": [
    {
     "data": {
      "text/plain": [
       "(array([[0.28712364, 0.        , 0.33478571]]),\n",
       " array([[0.        , 0.        , 1.08175419]]))"
      ]
     },
     "execution_count": 19,
     "metadata": {},
     "output_type": "execute_result"
    }
   ],
   "source": [
    "out1 = layer.forward(x1)\n",
    "out2 = layer.forward(x2)\n",
    "out1, out2"
   ]
  },
  {
   "cell_type": "code",
   "execution_count": 20,
   "metadata": {},
   "outputs": [
    {
     "data": {
      "text/plain": [
       "array([[0.28712364, 0.        , 0.33478571],\n",
       "       [0.        , 0.        , 1.08175419]])"
      ]
     },
     "execution_count": 20,
     "metadata": {},
     "output_type": "execute_result"
    }
   ],
   "source": [
    "x12 = np.concatenate((x1,x2))\n",
    "out12 = layer.forward(x12)\n",
    "out12"
   ]
  },
  {
   "cell_type": "markdown",
   "metadata": {},
   "source": [
    "**이제 위에서 구현한 신경망에 진짜로 데이터를 부여해서 분류를 시켜 보도록 할 것이다.**\n",
    "- 우리는 입력 벡터에 대해서 네크워크가 해당 이미지가 각 class에 대응하는지 확신하는 정도를 출력 벡터로 반환해서 그 확률값들중 가장 높은 확률을 갖는 class를 정답으로 출력할 것이다.\n",
    "- 입력 벡터의 개수는 784개 (이미지의 픽셀의 개수와 동일) 출력은 10개의 class이기 때문에 10개이다."
   ]
  },
  {
   "cell_type": "code",
   "execution_count": 21,
   "metadata": {},
   "outputs": [],
   "source": [
    "from tensorflow.keras.datasets import mnist\n",
    "np.random.seed(42)\n",
    "\n",
    "(x_train, y_train), (x_test, y_test) = mnist.load_data()"
   ]
  },
  {
   "cell_type": "code",
   "execution_count": 22,
   "metadata": {},
   "outputs": [
    {
     "data": {
      "text/plain": [
       "((60000, 28, 28), (10000, 28, 28))"
      ]
     },
     "execution_count": 22,
     "metadata": {},
     "output_type": "execute_result"
    }
   ],
   "source": [
    "x_train.shape, x_test.shape"
   ]
  },
  {
   "cell_type": "code",
   "execution_count": 23,
   "metadata": {},
   "outputs": [],
   "source": [
    "x_train, x_test = x_train.reshape(-1,28*28), x_test.reshape(-1,28*28)"
   ]
  },
  {
   "cell_type": "code",
   "execution_count": 24,
   "metadata": {},
   "outputs": [
    {
     "data": {
      "text/plain": [
       "(60000,)"
      ]
     },
     "execution_count": 24,
     "metadata": {},
     "output_type": "execute_result"
    }
   ],
   "source": [
    "y_train.shape"
   ]
  },
  {
   "cell_type": "code",
   "execution_count": 25,
   "metadata": {},
   "outputs": [],
   "source": [
    "num_classes = 10\n",
    "y_train = np.eye(num_classes)[y_train]"
   ]
  },
  {
   "cell_type": "code",
   "execution_count": 26,
   "metadata": {},
   "outputs": [],
   "source": [
    "\n",
    "\n",
    "def sigmoid(x):\n",
    "    return (1/(1+np.exp(-x)))\n",
    "\n",
    "class SimpleMultiLayer(object):\n",
    "    def __init__(self, num_inputs, num_outputs, layer_size):\n",
    "        super().__init__()\n",
    "        self.num_inputs = num_inputs\n",
    "        self.num_outputs = num_outputs\n",
    "        sizes = [num_inputs, *layer_size, num_outputs]\n",
    "        self.layers = [\n",
    "            FullyConnectedLayer(sizes[i], sizes[i+1], sigmoid) for i in range(len(sizes)-1)\n",
    "        ]\n",
    "    \n",
    "    def forward(self, x):\n",
    "        for i in range(len(self.layers)):\n",
    "            x = self.layers[i].forward(x)\n",
    "        return x\n",
    "    \n",
    "    def predict(self, x):\n",
    "        estimate = self.forward(x)\n",
    "        best_class = np.argmax(estimate)\n",
    "        return best_class\n",
    "    \n",
    "    def evaluate_accuracy(self, x, y):\n",
    "        num_corrects = 0\n",
    "        for i in range(len(x)):\n",
    "            if self.predict(x[i]) == y[i]:\n",
    "                num_corrects += 1\n",
    "        return (num_corrects/len(x)) * 100\n",
    "        "
   ]
  },
  {
   "cell_type": "code",
   "execution_count": 27,
   "metadata": {},
   "outputs": [],
   "source": [
    "mnist_classifier = SimpleMultiLayer(num_inputs = 784, num_outputs = 10, layer_size = [64,32,16])"
   ]
  },
  {
   "cell_type": "code",
   "execution_count": 28,
   "metadata": {},
   "outputs": [
    {
     "name": "stderr",
     "output_type": "stream",
     "text": [
      "C:\\newana\\envs\\tensorflow\\lib\\site-packages\\ipykernel_launcher.py:2: RuntimeWarning: overflow encountered in exp\n",
      "  \n"
     ]
    }
   ],
   "source": [
    "mnist_classifier.forward(x_train)\n",
    "accuracy = mnist_classifier.evaluate_accuracy(x_test, y_test)"
   ]
  },
  {
   "cell_type": "code",
   "execution_count": 29,
   "metadata": {},
   "outputs": [
    {
     "data": {
      "text/plain": [
       "10.280000000000001"
      ]
     },
     "execution_count": 29,
     "metadata": {},
     "output_type": "execute_result"
    }
   ],
   "source": [
    "accuracy"
   ]
  },
  {
   "cell_type": "markdown",
   "metadata": {},
   "source": [
    "**지금 만든 신경망은 랜덤하게 모든 값들을 설정하였고 특히 본래 신경망이라면 존재해야할 학습의 과정이 전혀 없었기 때문에 당연한 정확도이다.**\n",
    "- 이제는 신경망을 해결해야하는 과제에 맞게 훈련시키도록 해야 한다.  \n",
    "\n",
    "**손실 함수**\n",
    "1. L2 (L2 norm을 이용하여 계산)\n",
    "    - 네트워크가 예측한 확률 벡터와 타깃 class이외의 값을 NULL로 저장된 y_true벡터의 각 요소의 차의 제곱합을 이용하여 손실을 계산한다.\n",
    "2. L1 (L1 norm을 이용하여 계산)\n",
    "    - 네트워크가 예측한 확률 벡터와 실제 target 벡터의 각 요소의 절댓값의 합을 이용하여 손실을 계산한다.\n",
    "3. Cross_Entropy (교차 엔트로피)\n",
    "    - 기댓값과 비교하기 전에 예측 확률을 로그 척도로 변환하여 계산한다.\n",
    "    - 이렇게 로그 연산을 씌워주면 확률이 [0,1]에서 [-무한대, 0]으로 변환된다.\n",
    "        - 따라서 결과에 -1을 곱하여 신경망의 손실값이 무한에서 0으로 옮겨가게 된다.\n",
    "4. MSE (Mean_Squared_Error)\n",
    "    - L2 손실이 제곱합을 구했다면 이 손실 함수는 제곱합의 평균을 구한다.\n",
    "5. MAE (Mean_Absolute_Error)\n",
    "    - L1 손실이 절댓값합을 구했다면 이 손실 함수는 절댓값합의 평균을 구한다."
   ]
  },
  {
   "cell_type": "markdown",
   "metadata": {},
   "source": [
    "**오차 역전파**\n",
    "1. 각각의 parameter에 대한 손실 함수의 미분값을 구하여서 각 매개변수가 각각의 계층마다 손실에 얼마나 영향을 미치는지 **재귀적으로 되돌아가며 계산**하는 과정이다.\n",
    "2. 이렇게 계산하면 결과 손실의 값을 반대방향으로 계속 전파하게 되기 때문에 이 과정을 **역전파**라고 한다.\n",
    "3. 매개변수를 갱신하는 것은 epsilon이라고 칭하는 learning rate를 손실함수를 파라미터에 미분해준 값과 곱해 주어서 현재 매개변수에 빼는 방법으로 진행이 된다.  \n",
    "\n",
    "- 이렇게 결과 손실을 구하고 역전파를 통해 미분값을 얻은 뒤 업데이트를 반복하는 과정을 **부분적 경사 하강법(SGD)**라고 한다.\n",
    "- 그러나 속도가 빠른 대신 잡음이 많아 mini batch를 무작위로 생성하는 **미니 배치 확률적 경사 하강법**을 선호하는 경향이 있다.  \n",
    "\n",
    "**이제 이렇게 역전파를 통해 신경망을 훈련시키는 방법을 구현해 보자.**"
   ]
  },
  {
   "cell_type": "code",
   "execution_count": 95,
   "metadata": {},
   "outputs": [],
   "source": [
    "class FullyConnectedLayer(object):\n",
    "    def __init__(self, input_size, layer_size, activation_fn, d_activation_fn):\n",
    "        super().__init__()\n",
    "        self.W = np.random.standard_normal((input_size, layer_size))\n",
    "        self.b = np.random.standard_normal(layer_size)\n",
    "        self.size = layer_size\n",
    "        self.d_activation_fn = d_activation_fn\n",
    "        self.activation_fn = activation_fn\n",
    "        self.x, self.y, self.dL_dW , self.dL_db = 0,0,0,0\n",
    "        \n",
    "    def forward(self, x):\n",
    "        z = np.dot(x, self.W) + self.b\n",
    "        #back propagation을 위한 값의 저장\n",
    "        self.y = self.activation_fn(z)\n",
    "        self.x = x\n",
    "        return self.y\n",
    "    \n",
    "    def backward(self, dL_dy):\n",
    "        dy_dz = self.d_activation_fn(self.y)\n",
    "        dL_dz = (dL_dy * dy_dz)\n",
    "        dz_dw = self.x.T\n",
    "        dz_dx = self.W.T\n",
    "        dz_db = np.ones(dL_dy.shape[0])\n",
    "        self.dL_dw = np.dot(dz_dw, dL_dz)\n",
    "        self.dL_db = np.dot(dz_db, dL_dz)\n",
    "        dL_dx = np.dot(dL_dz, dz_dx)\n",
    "        return dL_dx\n",
    "    \n",
    "    def optimize(self, epsilon):\n",
    "        self.W -= epsilon * self.dL_dw\n",
    "        self.b -= epsilon * self.dL_db        "
   ]
  },
  {
   "cell_type": "code",
   "execution_count": 96,
   "metadata": {},
   "outputs": [],
   "source": [
    "def d_sigmoid(y):\n",
    "    #직접 계산해보면 아래와 같은 결과가 나온다.\n",
    "    return y * (1-y)\n",
    "\n",
    "def l2_loss(pred, target):\n",
    "    return np.sum(np.square(pred - target)) / pred.shape[0]\n",
    "\n",
    "def d_l2_loss(pred, target):\n",
    "    return 2 * (pred - target)"
   ]
  },
  {
   "cell_type": "code",
   "execution_count": 109,
   "metadata": {},
   "outputs": [],
   "source": [
    "class SimpleNetwork(object):\n",
    "    def __init__(self, input_size, output_size, hidden_layer_size, loss_fn = l2_loss, d_loss_fn = d_l2_loss):\n",
    "        super().__init__()\n",
    "        sizes = [input_size, *hidden_layer_size, output_size]\n",
    "        self.layers = [\n",
    "            FullyConnectedLayer(sizes[i], sizes[i+1], sigmoid, d_sigmoid) for i in range(len(sizes)-1)\n",
    "        ]\n",
    "        self.loss_fn = loss_fn\n",
    "        self.d_loss_fn = d_loss_fn\n",
    "        \n",
    "    def forward(self, x):\n",
    "        for layer in self.layers:\n",
    "            x = layer.forward(x)\n",
    "        return x\n",
    "    \n",
    "    def backward(self, dL_dy):\n",
    "        for layer in reversed(self.layers):\n",
    "            dL_dy = layer.backward(dL_dy)\n",
    "        return dL_dy\n",
    "    \n",
    "    def optimize(self, epsilon):\n",
    "        for layer in reversed(self.layers):\n",
    "            layer.optimize(epsilon)\n",
    "            \n",
    "    def train(self, train_x, train_y, val_x, val_y, epochs, batch_size, learning_rate):\n",
    "        batch_per_epoch = len(train_x) // batch_size\n",
    "        loss, accuracy = [], []\n",
    "        for epoch in range(epochs):\n",
    "            epoch_loss = 0\n",
    "            for k in range(batch_per_epoch):\n",
    "                k_idx = k * batch_size\n",
    "                batch_x = train_x[k_idx:k_idx+batch_size]\n",
    "                batch_y = train_y[k_idx:k_idx+batch_size]\n",
    "                y = self.forward(batch_x)\n",
    "                epoch_loss += self.loss_fn(y, batch_y)\n",
    "                dL_dy = self.backward(self.d_loss_fn(y, batch_y))\n",
    "                self.optimize(learning_rate)\n",
    "            loss.append(epoch_loss / batch_per_epoch)\n",
    "            accuracy.append(self.accuracy(val_x, val_y))\n",
    "            print(\"Epoch : {} Validation Accuracy : {:3f} Training Loss : {:3f}\".format(epoch + 1, accuracy[epoch], loss[epoch]))\n",
    "            \n",
    "            \n",
    "            \n",
    "    \n",
    "    def predict(self, x):\n",
    "        estimation = self.forward(x)\n",
    "        return np.argmax(estimation)\n",
    "    \n",
    "    def accuracy(self, x,y):\n",
    "        correct_n = 0\n",
    "        for i in range(len(x)):\n",
    "            if self.predict(x[i]) == y[i]:\n",
    "                correct_n += 1\n",
    "        return (correct_n/len(x))*100\n",
    "        \n",
    "    \n",
    "        "
   ]
  },
  {
   "cell_type": "code",
   "execution_count": 110,
   "metadata": {},
   "outputs": [],
   "source": [
    "mnist_classifier = SimpleNetwork(784, 10, [64, 32, 16], l2_loss, d_l2_loss)"
   ]
  },
  {
   "cell_type": "code",
   "execution_count": 112,
   "metadata": {},
   "outputs": [
    {
     "name": "stderr",
     "output_type": "stream",
     "text": [
      "C:\\newana\\envs\\tensorflow\\lib\\site-packages\\ipykernel_launcher.py:2: RuntimeWarning: overflow encountered in exp\n",
      "  \n"
     ]
    },
    {
     "name": "stdout",
     "output_type": "stream",
     "text": [
      "Epoch : 1 Validation Accuracy : 78.890000 Training Loss : 0.354234\n",
      "Epoch : 2 Validation Accuracy : 78.840000 Training Loss : 0.332993\n",
      "Epoch : 3 Validation Accuracy : 79.970000 Training Loss : 0.317382\n",
      "Epoch : 4 Validation Accuracy : 81.060000 Training Loss : 0.305949\n",
      "Epoch : 5 Validation Accuracy : 81.280000 Training Loss : 0.296703\n",
      "Epoch : 6 Validation Accuracy : 81.260000 Training Loss : 0.292808\n",
      "Epoch : 7 Validation Accuracy : 81.630000 Training Loss : 0.285325\n",
      "Epoch : 8 Validation Accuracy : 82.990000 Training Loss : 0.279547\n",
      "Epoch : 9 Validation Accuracy : 82.500000 Training Loss : 0.268495\n",
      "Epoch : 10 Validation Accuracy : 83.480000 Training Loss : 0.260940\n",
      "Epoch : 11 Validation Accuracy : 83.750000 Training Loss : 0.256669\n",
      "Epoch : 12 Validation Accuracy : 83.600000 Training Loss : 0.255298\n",
      "Epoch : 13 Validation Accuracy : 84.530000 Training Loss : 0.243616\n",
      "Epoch : 14 Validation Accuracy : 83.790000 Training Loss : 0.246632\n",
      "Epoch : 15 Validation Accuracy : 83.850000 Training Loss : 0.247970\n",
      "Epoch : 16 Validation Accuracy : 84.880000 Training Loss : 0.243897\n",
      "Epoch : 17 Validation Accuracy : 84.720000 Training Loss : 0.239330\n",
      "Epoch : 18 Validation Accuracy : 84.890000 Training Loss : 0.235236\n",
      "Epoch : 19 Validation Accuracy : 85.620000 Training Loss : 0.228435\n",
      "Epoch : 20 Validation Accuracy : 86.080000 Training Loss : 0.216748\n",
      "Epoch : 21 Validation Accuracy : 86.000000 Training Loss : 0.221529\n",
      "Epoch : 22 Validation Accuracy : 86.360000 Training Loss : 0.217367\n",
      "Epoch : 23 Validation Accuracy : 86.310000 Training Loss : 0.210020\n",
      "Epoch : 24 Validation Accuracy : 86.720000 Training Loss : 0.210857\n",
      "Epoch : 25 Validation Accuracy : 86.930000 Training Loss : 0.208390\n",
      "Epoch : 26 Validation Accuracy : 86.810000 Training Loss : 0.210992\n",
      "Epoch : 27 Validation Accuracy : 87.320000 Training Loss : 0.204717\n",
      "Epoch : 28 Validation Accuracy : 87.290000 Training Loss : 0.198665\n",
      "Epoch : 29 Validation Accuracy : 87.490000 Training Loss : 0.196409\n",
      "Epoch : 30 Validation Accuracy : 87.970000 Training Loss : 0.195883\n"
     ]
    }
   ],
   "source": [
    "mnist_classifier.train(x_train, y_train, x_test, y_test, epochs = 30, batch_size = 32, learning_rate = 0.002)"
   ]
  },
  {
   "cell_type": "code",
   "execution_count": 145,
   "metadata": {},
   "outputs": [
    {
     "name": "stderr",
     "output_type": "stream",
     "text": [
      "C:\\newana\\envs\\tensorflow\\lib\\site-packages\\ipykernel_launcher.py:2: RuntimeWarning: overflow encountered in exp\n",
      "  \n"
     ]
    },
    {
     "data": {
      "image/png": "[encoded data removed]",
      "text/plain": [
       "<Figure size 720x720 with 9 Axes>"
      ]
     },
     "metadata": {
      "needs_background": "light"
     },
     "output_type": "display_data"
    }
   ],
   "source": [
    "plt.figure(figsize = (10,10))\n",
    "for i in range(100,109):\n",
    "    plt.subplot(3,3,i-99)\n",
    "    plt.imshow(x_test[i].reshape(28,28), cmap = 'gray')\n",
    "    if mnist_classifier.predict(x_test[i]) == y_test[i]:plt.title('{} : {} '.format(mnist_classifier.predict(x_test[i]), y_test[i]), color = 'b')\n",
    "    else:plt.title('{} : {} '.format(mnist_classifier.predict(x_test[i]), y_test[i]), color = 'r')\n",
    "plt.show()"
   ]
  },
  {
   "cell_type": "markdown",
   "metadata": {},
   "source": [
    "**위의 시각화에서도 알 수 있듯이 예측 정확도가 꽤 높음을 알 수 있다.**  \n",
    "**이렇게 학습을 진행하고 매개변수의 값을 갱신한다면 직접 파이썬으로 짠 신경망으로도 꽤나 성능이 좋은 network를 만들 수 있다.**"
   ]
  }
 ],
 "metadata": {
  "kernelspec": {
   "display_name": "Python 3",
   "language": "python",
   "name": "python3"
  },
  "language_info": {
   "codemirror_mode": {
    "name": "ipython",
    "version": 3
   },
   "file_extension": ".py",
   "mimetype": "text/x-python",
   "name": "python",
   "nbconvert_exporter": "python",
   "pygments_lexer": "ipython3",
   "version": "3.7.7"
  }
 },
 "nbformat": 4,
 "nbformat_minor": 4
}
